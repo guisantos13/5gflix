{
  "cells": [
    {
      "cell_type": "code",
      "execution_count": null,
      "id": "03d3c0b8",
      "metadata": {
        "id": "03d3c0b8"
      },
      "outputs": [],
      "source": [
        "pip install bs4"
      ]
    },
    {
      "cell_type": "code",
      "execution_count": null,
      "id": "19adde21",
      "metadata": {
        "id": "19adde21"
      },
      "outputs": [],
      "source": [
        "pip install wget"
      ]
    },
    {
      "cell_type": "markdown",
      "id": "d13ae80c",
      "metadata": {
        "id": "d13ae80c"
      },
      "source": [
        "# BIBLIOTECAS"
      ]
    },
    {
      "cell_type": "code",
      "execution_count": null,
      "id": "74d53e3a",
      "metadata": {
        "id": "74d53e3a"
      },
      "outputs": [],
      "source": [
        "import urllib3\n",
        "import wget\n",
        "from bs4 import BeautifulSoup\n",
        "from urllib.error import *\n",
        "import warnings\n",
        "import requests\n",
        "import os\n",
        "import gzip\n",
        "import shutil\n",
        "from google.cloud import storage\n",
        "storage_client = storage.Client()\n",
        "\n",
        "warnings.filterwarnings('ignore')"
      ]
    },
    {
      "cell_type": "markdown",
      "id": "Uc_ATZuM3s-d",
      "metadata": {
        "id": "Uc_ATZuM3s-d"
      },
      "source": [
        "# FUNÇÕES"
      ]
    },
    {
      "cell_type": "code",
      "execution_count": null,
      "id": "b964accf",
      "metadata": {
        "id": "b964accf"
      },
      "outputs": [],
      "source": [
        "# Função criada para fazer o scrap no site kaggle e retornar os links de armazenamento\n",
        "\n",
        "\n",
        "def scrap(url):\n",
        "  try:\n",
        "    conexao = urllib3.PoolManager() #PoolManager possuir recursos para manipular websites.\n",
        "    retorno = conexao.request('GET',url) #Realiza a requisição no site e armazena o conteúdo.\n",
        "    retorno.data\n",
        "    pagina=BeautifulSoup(retorno.data,\"html.parser\") #Manipula os dados HTML e organiza a estrutura dos dados.\n",
        "    print('Leitura realizada com sucesso')\n",
        "    print(pagina)\n",
        "    \n",
        "  except (URLError, HTTPError) as site:\n",
        "    print('Não foi possivel ler o site', site)"
      ]
    },
    {
      "cell_type": "code",
      "execution_count": null,
      "id": "470a0679",
      "metadata": {
        "id": "470a0679"
      },
      "outputs": [],
      "source": [
        "# Função criada para fazer o scrap no site archive e retornar os links 'href'\n",
        "\n",
        "conteudo = [] #Lista onde iremos armazenar nossos links\n",
        "\n",
        "def scrap_archive(url):\n",
        "  try:\n",
        "    conexao = urllib3.PoolManager() #PoolManager possuir recursos para manipular websites.\n",
        "    retorno = conexao.request('GET',url) #Realiza a requisição no site e armazena o conteúdo.\n",
        "    retorno.data\n",
        "    pagina=BeautifulSoup(retorno.data,\"html.parser\") #Manipula os dados HTML e organiza a estrutura dos dados.\n",
        "    print('Leitura realizada com sucesso')\n",
        "    for link in pagina.find_all('a'): #Realiza uma varredura no conteúdo e identifica apenas os links 'href'\n",
        "        conteudo.append(link.get('href')) #Armazena todos os links na nossa lista\n",
        "\n",
        "  except (URLError, HTTPError) as site:\n",
        "    print('Não foi possivel ler o site', site)"
      ]
    },
    {
      "cell_type": "code",
      "execution_count": null,
      "id": "1fd0dd04",
      "metadata": {
        "id": "1fd0dd04"
      },
      "outputs": [],
      "source": [
        "# Envio dos datasets para camada landing\n",
        "\n",
        "def upload_dataset(bucket_name, source_file_name, destination_blob_name):\n",
        "    '''Upload dos aquivos no datalake'''\n",
        "   \n",
        "    # bucket_name = \"nome-da-bucket\"\n",
        "    # source_file_name =  caminho do arquivo a ser enviado\n",
        "    # destination_blob_name = \"nome-objeto-bucket\"\n",
        "\n",
        "    \n",
        "    bucket = storage_client.bucket(bucket_name)\n",
        "    blob = bucket.blob(destination_blob_name)\n",
        "\n",
        "    blob.upload_from_filename(source_file_name)\n",
        "\n",
        "    print(\n",
        "        f\"Arquivo {source_file_name} enviado para {destination_blob_name}.\"\n",
        "    )"
      ]
    },
    {
      "cell_type": "markdown",
      "id": "JxZnR5473pl3",
      "metadata": {
        "id": "JxZnR5473pl3"
      },
      "source": [
        "# NETFLIX"
      ]
    },
    {
      "cell_type": "code",
      "execution_count": null,
      "id": "5d17e1db",
      "metadata": {
        "id": "5d17e1db"
      },
      "outputs": [],
      "source": [
        "#Url para função realizar o scrap no kaggle\n",
        "scrap('https://www.kaggle.com/datasets/netflix-inc/netflix-prize-data')"
      ]
    },
    {
      "cell_type": "code",
      "execution_count": null,
      "id": "a545e8c8",
      "metadata": {
        "colab": {
          "base_uri": "https://localhost:8080/"
        },
        "id": "a545e8c8",
        "outputId": "f9cd836e-dd16-4609-a386-71ce612ee404",
        "scrolled": true
      },
      "outputs": [
        {
          "name": "stdout",
          "output_type": "stream",
          "text": [
            "Leitura realizada com sucesso\n"
          ]
        }
      ],
      "source": [
        "#O dataset se encontra armazenad no site'archive' ,Url para a função realizar o scrap no archive\n",
        "scrap_archive('https://archive.org/details/nf_prize_dataset.tar')"
      ]
    },
    {
      "cell_type": "code",
      "execution_count": null,
      "id": "c96a168c",
      "metadata": {
        "id": "c96a168c",
        "outputId": "21269666-37e3-4059-d373-49d3a4803552"
      },
      "outputs": [
        {
          "data": {
            "text/plain": [
              "['#maincontent',\n",
              " 'https://archive.org',\n",
              " 'https://archive.org/create/',\n",
              " None,\n",
              " 'https://archive.org/account/signup',\n",
              " 'https://archive.org/account/login',\n",
              " 'https://archive.org/web/',\n",
              " 'https://archive.org/details/texts',\n",
              " 'https://archive.org/details/movies',\n",
              " 'https://archive.org/details/audio',\n",
              " 'https://archive.org/details/software',\n",
              " 'https://archive.org/details/image',\n",
              " 'https://archive.org/donate/',\n",
              " 'https://archive.org/about/',\n",
              " 'https://archive.org/about/',\n",
              " 'https://blog.archive.org/',\n",
              " 'https://archive.org/projects/',\n",
              " 'https://archive.org/about/faqs.php',\n",
              " 'https://archive.org/donate/',\n",
              " 'https://archive.org/about/contact.php',\n",
              " 'https://archive.org/about/jobs.php',\n",
              " 'https://archive.org/about/volunteerpositions.php',\n",
              " 'https://archive.org/about/bios.php',\n",
              " 'https://archive.org/advancedsearch.php',\n",
              " 'https://archive.org/account/signup',\n",
              " 'https://archive.org/account/login',\n",
              " '/download/nf_prize_dataset.tar',\n",
              " 'https://twitter.com/intent/tweet?url=https://archive.org/details/nf_prize_dataset.tar&via=internetarchive&text=nf_prize_dataset.tar+%3A+Free+Download%2C+Borrow%2C+and+Streaming+%3A+Internet+Archive',\n",
              " 'https://www.facebook.com/sharer/sharer.php?u=https://archive.org/details/nf_prize_dataset.tar',\n",
              " 'http://www.reddit.com/submit?url=https://archive.org/details/nf_prize_dataset.tar&title=nf_prize_dataset.tar+%3A+Free+Download%2C+Borrow%2C+and+Streaming+%3A+Internet+Archive',\n",
              " 'https://www.tumblr.com/share/video?embed=%3Ciframe+width%3D%22640%22+height%3D%22480%22+frameborder%3D%220%22+allowfullscreen+src%3D%22https%3A%2F%2Farchive.org%2Fembed%2F%22+webkitallowfullscreen%3D%22true%22+mozallowfullscreen%3D%22true%22%26gt%3B%26lt%3B%2Fiframe%3E&name=nf_prize_dataset.tar+%3A+Free+Download%2C+Borrow%2C+and+Streaming+%3A+Internet+Archive',\n",
              " 'http://www.pinterest.com/pin/create/button/?url=https://archive.org/details/nf_prize_dataset.tar&description=nf_prize_dataset.tar+%3A+Free+Download%2C+Borrow%2C+and+Streaming+%3A+Internet+Archive',\n",
              " 'mailto:?body=https://archive.org/details/nf_prize_dataset.tar&subject=nf_prize_dataset.tar : Free Download, Borrow, and Streaming : Internet Archive',\n",
              " '/help/audio.php?identifier=nf_prize_dataset.tar',\n",
              " '/account/login?referer=https%3A%2F%2Farchive.org%2Fdetails%2Fnf_prize_dataset.tar',\n",
              " '/account/login?referer=https%3A%2F%2Farchive.org%2Fdetails%2Fnf_prize_dataset.tar',\n",
              " '/account/login?referer=https%3A%2F%2Farchive.org%2Fdetails%2Fnf_prize_dataset.tar',\n",
              " '/account/login?referer=https%3A%2F%2Farchive.org%2Fdetails%2Fnf_prize_dataset.tar',\n",
              " '/search.php?query=subject%3A%22Netflix+Dataset%22',\n",
              " '/details/opensource_media',\n",
              " '/search.php?query=%28language%3Adut+OR+language%3A%22Dutch%22%29',\n",
              " '/write-review.php?identifier=nf_prize_dataset.tar',\n",
              " '/write-review.php?identifier=nf_prize_dataset.tar',\n",
              " '/download/nf_prize_dataset.tar/nf_prize_dataset.tar.gz',\n",
              " '/download/nf_prize_dataset.tar/nf_prize_dataset.tar.gz',\n",
              " '/download/nf_prize_dataset.tar/nf_prize_dataset.tar_archive.torrent',\n",
              " '/download/nf_prize_dataset.tar/nf_prize_dataset.tar_archive.torrent',\n",
              " '/compress/nf_prize_dataset.tar',\n",
              " '/compress/nf_prize_dataset.tar/formats=GZIP,ARCHIVE BITTORRENT,METADATA',\n",
              " '/download/nf_prize_dataset.tar',\n",
              " '/details/opensource_media',\n",
              " '/details/opensource_media',\n",
              " '/details/community',\n",
              " '/details/community',\n",
              " '/details/@ieee8023',\n",
              " '/about/terms.php']"
            ]
          },
          "execution_count": 12,
          "metadata": {},
          "output_type": "execute_result"
        }
      ],
      "source": [
        "conteudo"
      ]
    },
    {
      "cell_type": "code",
      "execution_count": null,
      "id": "5bb18c9f",
      "metadata": {
        "colab": {
          "base_uri": "https://localhost:8080/",
          "height": 35
        },
        "id": "5bb18c9f",
        "outputId": "f20b8423-33ec-4b42-84ac-31444b5dfd40"
      },
      "outputs": [
        {
          "data": {
            "text/plain": [
              "'https://archive.org/download/nf_prize_dataset.tar/nf_prize_dataset.tar.gz'"
            ]
          },
          "execution_count": 13,
          "metadata": {},
          "output_type": "execute_result"
        }
      ],
      "source": [
        "# O link para o dataset se encontra na posição 43\n",
        "site='https://archive.org'\n",
        "url = site + conteudo[43]\n",
        "url"
      ]
    },
    {
      "cell_type": "code",
      "execution_count": null,
      "id": "d1ce4c3e",
      "metadata": {
        "id": "d1ce4c3e"
      },
      "outputs": [],
      "source": [
        "#armazenamento dos datasets\n",
        "path=('/home/dataproc')"
      ]
    },
    {
      "cell_type": "code",
      "execution_count": null,
      "id": "b9532355",
      "metadata": {
        "id": "b9532355",
        "outputId": "fa3df1fe-9061-48aa-808a-fac255c6cfaf"
      },
      "outputs": [
        {
          "name": "stdout",
          "output_type": "stream",
          "text": [
            "Download finalizado\n"
          ]
        }
      ],
      "source": [
        "#Realizando o download do dataset netflix, para o desenvolver do trabalho foi utilizado o arquivo disponibilizado no kaggle,\n",
        "# pois a única alteração realizada no arquivo original foi a união dos 17.000 arquivos de texto em quatro arquivos de texto.\n",
        "url_kaggle='https://www.kaggle.com/datasets/netflix-inc/netflix-prize-data/download'\n",
        "arquivo_local=wget.download(url_kaggle,path)\n",
        "print('Download finalizado')    "
      ]
    },
    {
      "cell_type": "markdown",
      "id": "Hn8xr-Avbtb5",
      "metadata": {
        "id": "Hn8xr-Avbtb5"
      },
      "source": [
        "# AMAZON"
      ]
    },
    {
      "cell_type": "code",
      "execution_count": null,
      "id": "hjMIQKyuAI84",
      "metadata": {
        "collapsed": true,
        "id": "hjMIQKyuAI84",
        "outputId": "5a81a992-9e3a-43dd-fcff-cc8a1a5c3632"
      },
      "outputs": [
        {
          "name": "stdout",
          "output_type": "stream",
          "text": [
            "Leitura realizada com sucesso\n",
            "SAMPLE CONTENT:\n",
            "https://s3.amazonaws.com/amazon-reviews-pds/tsv/sample_us.tsv\n",
            "https://s3.amazonaws.com/amazon-reviews-pds/tsv/sample_fr.tsv\n",
            "\n",
            "DATA COLUMNS:\n",
            "marketplace       - 2 letter country code of the marketplace where the review was written.\n",
            "customer_id       - Random identifier that can be used to aggregate reviews written by a single author.\n",
            "review_id         - The unique ID of the review.\n",
            "product_id        - The unique Product ID the review pertains to. In the multilingual dataset the reviews\n",
            "                    for the same product in different countries can be grouped by the same product_id.\n",
            "product_parent    - Random identifier that can be used to aggregate reviews for the same product.\n",
            "product_title     - Title of the product.\n",
            "product_category  - Broad product category that can be used to group reviews \n",
            "                    (also used to group the dataset into coherent parts).\n",
            "star_rating       - The 1-5 star rating of the review.\n",
            "helpful_votes     - Number of helpful votes.\n",
            "total_votes       - Number of total votes the review received.\n",
            "vine              - Review was written as part of the Vine program.\n",
            "verified_purchase - The review is on a verified purchase.\n",
            "review_headline   - The title of the review.\n",
            "review_body       - The review text.\n",
            "review_date       - The date the review was written.\n",
            "\n",
            "DATA FORMAT\n",
            "Tab ('\\t') separated text file, without quote or escape characters.\n",
            "First line in each file is header; 1 line corresponds to 1 record.\n",
            "\n",
            "US REVIEWS DATASET:\n",
            "https://s3.amazonaws.com/amazon-reviews-pds/tsv/amazon_reviews_us_Wireless_v1_00.tsv.gz\n",
            "https://s3.amazonaws.com/amazon-reviews-pds/tsv/amazon_reviews_us_Watches_v1_00.tsv.gz\n",
            "https://s3.amazonaws.com/amazon-reviews-pds/tsv/amazon_reviews_us_Video_Games_v1_00.tsv.gz\n",
            "https://s3.amazonaws.com/amazon-reviews-pds/tsv/amazon_reviews_us_Video_DVD_v1_00.tsv.gz\n",
            "https://s3.amazonaws.com/amazon-reviews-pds/tsv/amazon_reviews_us_Video_v1_00.tsv.gz\n",
            "https://s3.amazonaws.com/amazon-reviews-pds/tsv/amazon_reviews_us_Toys_v1_00.tsv.gz\n",
            "https://s3.amazonaws.com/amazon-reviews-pds/tsv/amazon_reviews_us_Tools_v1_00.tsv.gz\n",
            "https://s3.amazonaws.com/amazon-reviews-pds/tsv/amazon_reviews_us_Sports_v1_00.tsv.gz\n",
            "https://s3.amazonaws.com/amazon-reviews-pds/tsv/amazon_reviews_us_Software_v1_00.tsv.gz\n",
            "https://s3.amazonaws.com/amazon-reviews-pds/tsv/amazon_reviews_us_Shoes_v1_00.tsv.gz\n",
            "https://s3.amazonaws.com/amazon-reviews-pds/tsv/amazon_reviews_us_Pet_Products_v1_00.tsv.gz\n",
            "https://s3.amazonaws.com/amazon-reviews-pds/tsv/amazon_reviews_us_Personal_Care_Appliances_v1_00.tsv.gz\n",
            "https://s3.amazonaws.com/amazon-reviews-pds/tsv/amazon_reviews_us_PC_v1_00.tsv.gz\n",
            "https://s3.amazonaws.com/amazon-reviews-pds/tsv/amazon_reviews_us_Outdoors_v1_00.tsv.gz\n",
            "https://s3.amazonaws.com/amazon-reviews-pds/tsv/amazon_reviews_us_Office_Products_v1_00.tsv.gz\n",
            "https://s3.amazonaws.com/amazon-reviews-pds/tsv/amazon_reviews_us_Musical_Instruments_v1_00.tsv.gz\n",
            "https://s3.amazonaws.com/amazon-reviews-pds/tsv/amazon_reviews_us_Music_v1_00.tsv.gz\n",
            "https://s3.amazonaws.com/amazon-reviews-pds/tsv/amazon_reviews_us_Mobile_Electronics_v1_00.tsv.gz\n",
            "https://s3.amazonaws.com/amazon-reviews-pds/tsv/amazon_reviews_us_Mobile_Apps_v1_00.tsv.gz\n",
            "https://s3.amazonaws.com/amazon-reviews-pds/tsv/amazon_reviews_us_Major_Appliances_v1_00.tsv.gz\n",
            "https://s3.amazonaws.com/amazon-reviews-pds/tsv/amazon_reviews_us_Luggage_v1_00.tsv.gz\n",
            "https://s3.amazonaws.com/amazon-reviews-pds/tsv/amazon_reviews_us_Lawn_and_Garden_v1_00.tsv.gz\n",
            "https://s3.amazonaws.com/amazon-reviews-pds/tsv/amazon_reviews_us_Kitchen_v1_00.tsv.gz\n",
            "https://s3.amazonaws.com/amazon-reviews-pds/tsv/amazon_reviews_us_Jewelry_v1_00.tsv.gz\n",
            "https://s3.amazonaws.com/amazon-reviews-pds/tsv/amazon_reviews_us_Home_Improvement_v1_00.tsv.gz\n",
            "https://s3.amazonaws.com/amazon-reviews-pds/tsv/amazon_reviews_us_Home_Entertainment_v1_00.tsv.gz\n",
            "https://s3.amazonaws.com/amazon-reviews-pds/tsv/amazon_reviews_us_Home_v1_00.tsv.gz\n",
            "https://s3.amazonaws.com/amazon-reviews-pds/tsv/amazon_reviews_us_Health_Personal_Care_v1_00.tsv.gz\n",
            "https://s3.amazonaws.com/amazon-reviews-pds/tsv/amazon_reviews_us_Grocery_v1_00.tsv.gz\n",
            "https://s3.amazonaws.com/amazon-reviews-pds/tsv/amazon_reviews_us_Gift_Card_v1_00.tsv.gz\n",
            "https://s3.amazonaws.com/amazon-reviews-pds/tsv/amazon_reviews_us_Furniture_v1_00.tsv.gz\n",
            "https://s3.amazonaws.com/amazon-reviews-pds/tsv/amazon_reviews_us_Electronics_v1_00.tsv.gz\n",
            "https://s3.amazonaws.com/amazon-reviews-pds/tsv/amazon_reviews_us_Digital_Video_Games_v1_00.tsv.gz\n",
            "https://s3.amazonaws.com/amazon-reviews-pds/tsv/amazon_reviews_us_Digital_Video_Download_v1_00.tsv.gz\n",
            "https://s3.amazonaws.com/amazon-reviews-pds/tsv/amazon_reviews_us_Digital_Software_v1_00.tsv.gz\n",
            "https://s3.amazonaws.com/amazon-reviews-pds/tsv/amazon_reviews_us_Digital_Music_Purchase_v1_00.tsv.gz\n",
            "https://s3.amazonaws.com/amazon-reviews-pds/tsv/amazon_reviews_us_Digital_Ebook_Purchase_v1_01.tsv.gz\n",
            "https://s3.amazonaws.com/amazon-reviews-pds/tsv/amazon_reviews_us_Digital_Ebook_Purchase_v1_00.tsv.gz\n",
            "https://s3.amazonaws.com/amazon-reviews-pds/tsv/amazon_reviews_us_Camera_v1_00.tsv.gz\n",
            "https://s3.amazonaws.com/amazon-reviews-pds/tsv/amazon_reviews_us_Books_v1_02.tsv.gz\n",
            "https://s3.amazonaws.com/amazon-reviews-pds/tsv/amazon_reviews_us_Books_v1_01.tsv.gz\n",
            "https://s3.amazonaws.com/amazon-reviews-pds/tsv/amazon_reviews_us_Books_v1_00.tsv.gz\n",
            "https://s3.amazonaws.com/amazon-reviews-pds/tsv/amazon_reviews_us_Beauty_v1_00.tsv.gz\n",
            "https://s3.amazonaws.com/amazon-reviews-pds/tsv/amazon_reviews_us_Baby_v1_00.tsv.gz\n",
            "https://s3.amazonaws.com/amazon-reviews-pds/tsv/amazon_reviews_us_Automotive_v1_00.tsv.gz\n",
            "https://s3.amazonaws.com/amazon-reviews-pds/tsv/amazon_reviews_us_Apparel_v1_00.tsv.gz\n",
            "\n",
            "MULTILINGUAL REVIEWS DATASET:\n",
            "https://s3.amazonaws.com/amazon-reviews-pds/tsv/amazon_reviews_multilingual_US_v1_00.tsv.gz\n",
            "https://s3.amazonaws.com/amazon-reviews-pds/tsv/amazon_reviews_multilingual_UK_v1_00.tsv.gz\n",
            "https://s3.amazonaws.com/amazon-reviews-pds/tsv/amazon_reviews_multilingual_JP_v1_00.tsv.gz\n",
            "https://s3.amazonaws.com/amazon-reviews-pds/tsv/amazon_reviews_multilingual_FR_v1_00.tsv.gz\n",
            "https://s3.amazonaws.com/amazon-reviews-pds/tsv/amazon_reviews_multilingual_DE_v1_00.tsv.gz\n"
          ]
        }
      ],
      "source": [
        "#Url para a função realizar o scrap no arquivo que contém o link para os datasets amazon.\n",
        "scrap('https://s3.amazonaws.com/amazon-reviews-pds/tsv/index.txt')"
      ]
    },
    {
      "cell_type": "code",
      "execution_count": null,
      "id": "cyY7nw74aerq",
      "metadata": {
        "id": "cyY7nw74aerq"
      },
      "outputs": [],
      "source": [
        "# path com os datasets relevantes para a nossa análise\n",
        "url_aws1 = 'https://s3.amazonaws.com/amazon-reviews-pds/tsv/amazon_reviews_us_Video_DVD_v1_00.tsv.gz'\n",
        "url_aws2 = 'https://s3.amazonaws.com/amazon-reviews-pds/tsv/amazon_reviews_us_Video_v1_00.tsv.gz'\n",
        "url_aws3 = 'https://s3.amazonaws.com/amazon-reviews-pds/tsv/amazon_reviews_us_Digital_Video_Download_v1_00.tsv.gz'"
      ]
    },
    {
      "cell_type": "code",
      "execution_count": null,
      "id": "Lar7BbznbZsg",
      "metadata": {
        "id": "Lar7BbznbZsg",
        "outputId": "b2cab5c8-ba0e-4d54-a127-aba4b55801d8"
      },
      "outputs": [
        {
          "name": "stdout",
          "output_type": "stream",
          "text": [
            "Download finalizado\n",
            "Download finalizado\n",
            "Download finalizado\n"
          ]
        }
      ],
      "source": [
        "#Realizando o download dos datasets amazon.\n",
        "links = [url_aws1,url_aws2,url_aws3]\n",
        "\n",
        "for i in links:\n",
        "    wget.download(i,path)\n",
        "    print('Download finalizado')\n"
      ]
    },
    {
      "cell_type": "markdown",
      "id": "e66d2fec",
      "metadata": {
        "id": "e66d2fec"
      },
      "source": [
        "# DATALAKE"
      ]
    },
    {
      "cell_type": "code",
      "execution_count": null,
      "id": "4f6fdf81",
      "metadata": {
        "id": "4f6fdf81",
        "outputId": "3dc474cc-e831-4781-feb7-05924300e79d"
      },
      "outputs": [
        {
          "name": "stdout",
          "output_type": "stream",
          "text": [
            "Arquivo /home/dataproc/nf_prize_dataset.tar.gz enviado para landing/nf_prize_dataset.tar.gz.\n"
          ]
        }
      ],
      "source": [
        "# Envio dos arquivos para camada Landing do datalake\n",
        "\n",
        "upload_dataset('datalake-5gflix',arquivo_local,'landing/nf_prize_dataset.tar.gz')   "
      ]
    },
    {
      "cell_type": "code",
      "execution_count": null,
      "id": "2ee235d6",
      "metadata": {
        "id": "2ee235d6",
        "outputId": "dad66f45-fb13-4e9d-88b7-0c1a33cfb7b7"
      },
      "outputs": [
        {
          "name": "stdout",
          "output_type": "stream",
          "text": [
            "Arquivo /home/dataproc/amazon_reviews_us_Digital_Video_Download_v1_00.tsv.gz enviado para landing/amazon_reviews_us_Digital_Video_Download_v1_00.tsv.gz.\n"
          ]
        }
      ],
      "source": [
        "upload_dataset('datalake-5gflix',path+'/amazon_reviews_us_Digital_Video_Download_v1_00.tsv.gz','landing/amazon_reviews_us_Digital_Video_Download_v1_00.tsv.gz')   "
      ]
    },
    {
      "cell_type": "code",
      "execution_count": null,
      "id": "fe9d8610",
      "metadata": {
        "id": "fe9d8610",
        "outputId": "f3a7307a-e527-4a20-e7e9-de4ff224e081"
      },
      "outputs": [
        {
          "name": "stdout",
          "output_type": "stream",
          "text": [
            "Arquivo /home/dataproc/amazon_reviews_us_Video_DVD_v1_00.tsv.gz enviado para landing/amazon_reviews_us_Video_DVD_v1_00.tsv.gz.\n"
          ]
        }
      ],
      "source": [
        "upload_dataset('datalake-5gflix',path+'/amazon_reviews_us_Video_DVD_v1_00.tsv.gz','landing/amazon_reviews_us_Video_DVD_v1_00.tsv.gz')   "
      ]
    },
    {
      "cell_type": "code",
      "execution_count": null,
      "id": "0b9352a4",
      "metadata": {
        "id": "0b9352a4",
        "outputId": "413c0f98-bd7e-4173-c8bb-cecbd6657fe6"
      },
      "outputs": [
        {
          "name": "stdout",
          "output_type": "stream",
          "text": [
            "Arquivo /home/dataproc/amazon_reviews_us_Video_v1_00.tsv.gz enviado para landing/amazon_reviews_us_Video_v1_00.tsv.gz.\n"
          ]
        }
      ],
      "source": [
        "upload_dataset('datalake-5gflix',path+'/amazon_reviews_us_Video_v1_00.tsv.gz','landing/amazon_reviews_us_Video_v1_00.tsv.gz')   "
      ]
    },
    {
      "cell_type": "code",
      "execution_count": null,
      "id": "0248fdcb",
      "metadata": {
        "id": "0248fdcb"
      },
      "outputs": [],
      "source": [
        ""
      ]
    }
  ],
  "metadata": {
    "colab": {
      "collapsed_sections": [],
      "name": "Scrap_dataproc.ipynb",
      "provenance": []
    },
    "kernelspec": {
      "display_name": "Python 3",
      "language": "python",
      "name": "python3"
    },
    "language_info": {
      "codemirror_mode": {
        "name": "ipython",
        "version": 3
      },
      "file_extension": ".py",
      "mimetype": "text/x-python",
      "name": "python",
      "nbconvert_exporter": "python",
      "pygments_lexer": "ipython3",
      "version": "3.8.13"
    }
  },
  "nbformat": 4,
  "nbformat_minor": 5
}