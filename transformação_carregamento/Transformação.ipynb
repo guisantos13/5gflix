{
  "cells": [
    {
      "cell_type": "code",
      "execution_count": null,
      "id": "65919ab7",
      "metadata": {
        "id": "65919ab7"
      },
      "outputs": [],
      "source": [
        "import os\n",
        "import pandas as pd\n",
        "from google.cloud import storage\n",
        "storage_client = storage.Client()\n",
        "import google.cloud\n",
        "\n",
        "from pyspark.sql import SparkSession\n",
        "from pyspark import SparkConf\n",
        "from pyspark.sql.types import *\n",
        "import pyspark.sql.functions as F\n",
        "from pyspark.sql.functions import *"
      ]
    },
    {
      "cell_type": "markdown",
      "id": "a7164430",
      "metadata": {
        "id": "a7164430"
      },
      "source": [
        "# TRANSFORMAÇÃO NETFLIX"
      ]
    },
    {
      "cell_type": "code",
      "execution_count": null,
      "id": "628ec148",
      "metadata": {
        "id": "628ec148"
      },
      "outputs": [],
      "source": [
        "def lista_objetos(bucket_name):\n",
        "    \"\"\"Lista todos os objetos da pasta\"\"\"\n",
        "    blobs = storage_client.list_blobs(bucket_name)\n",
        "\n",
        "    for blob in blobs:\n",
        "        print(blob.name)"
      ]
    },
    {
      "cell_type": "code",
      "execution_count": null,
      "id": "023dca89",
      "metadata": {
        "id": "023dca89",
        "outputId": "d65d1a1f-8c60-453b-9055-a195f7c51fb2"
      },
      "outputs": [
        {
          "name": "stdout",
          "output_type": "stream",
          "text": [
            "erros.csv\n",
            "landing/\n",
            "landing/amazon_reviews_us_Digital_Video_Download_v1_00.tsv.gz\n",
            "landing/amazon_reviews_us_Video_DVD_v1_00.tsv.gz\n",
            "landing/amazon_reviews_us_Video_v1_00.tsv.gz\n",
            "landing/nf_prize_dataset.tar.gz\n",
            "processing/\n",
            "processing/amazon_reviews_us_Digital_Video_Download_v1_00.tsv\n",
            "processing/amazon_reviews_us_Video_DVD_v1_00.tsv\n",
            "processing/amazon_reviews_us_Video_v1_00.tsv\n",
            "processing/nf_prize_dataset/README\n",
            "processing/nf_prize_dataset/combined_data.csv\n",
            "processing/nf_prize_dataset/movie_titles.csv\n",
            "processing/nf_prize_dataset/probe.txt\n",
            "processing/nf_prize_dataset/qualifying.txt\n",
            "temp/\n",
            "trusted/\n",
            "trusted/df_netflix_parquet.parquet/\n",
            "trusted/df_netflix_parquet.parquet/_SUCCESS\n",
            "trusted/df_netflix_parquet.parquet/part-00000-b2e7d38b-4231-49db-9c9d-bfb2efdce7d0-c000.snappy.parquet\n",
            "trusted/df_netflix_parquet.parquet/part-00001-b2e7d38b-4231-49db-9c9d-bfb2efdce7d0-c000.snappy.parquet\n",
            "trusted/df_netflix_parquet.parquet/part-00002-b2e7d38b-4231-49db-9c9d-bfb2efdce7d0-c000.snappy.parquet\n",
            "trusted/df_netflix_parquet.parquet/part-00003-b2e7d38b-4231-49db-9c9d-bfb2efdce7d0-c000.snappy.parquet\n",
            "trusted/df_netflix_parquet.parquet/part-00004-b2e7d38b-4231-49db-9c9d-bfb2efdce7d0-c000.snappy.parquet\n",
            "trusted/df_netflix_parquet.parquet/part-00005-b2e7d38b-4231-49db-9c9d-bfb2efdce7d0-c000.snappy.parquet\n",
            "trusted/df_netflix_parquet.parquet/part-00006-b2e7d38b-4231-49db-9c9d-bfb2efdce7d0-c000.snappy.parquet\n",
            "trusted/df_netflix_parquet.parquet/part-00007-b2e7d38b-4231-49db-9c9d-bfb2efdce7d0-c000.snappy.parquet\n",
            "trusted/df_netflix_parquet.parquet/part-00008-b2e7d38b-4231-49db-9c9d-bfb2efdce7d0-c000.snappy.parquet\n"
          ]
        }
      ],
      "source": [
        "lista_objetos('datalake-5gflix')"
      ]
    },
    {
      "cell_type": "code",
      "execution_count": null,
      "id": "18380972",
      "metadata": {
        "id": "18380972"
      },
      "outputs": [],
      "source": [
        "bucket=storage_client.bucket('datalake-5gflix')\n",
        "blob = bucket.blob('processing/nf_prize_dataset/combined_data_4.txt')\n",
        "blob.download_to_filename('/combined_data_4.txt')\n",
        "print('Download concluido')"
      ]
    },
    {
      "cell_type": "code",
      "execution_count": null,
      "id": "f3c95d1f",
      "metadata": {
        "id": "f3c95d1f",
        "outputId": "e2c4e3ce-7b00-4a91-b742-2e8bd405e5b4"
      },
      "outputs": [
        {
          "name": "stdout",
          "output_type": "stream",
          "text": [
            "Lendo /combined_data_1.txt\n",
            "\n",
            "Lendo /combined_data_2.txt\n",
            "\n",
            "Lendo /combined_data_3.txt\n",
            "\n",
            "Lendo /combined_data_4.txt\n",
            "\n",
            "Processo concluído\n"
          ]
        }
      ],
      "source": [
        "# Realizando a leitura dos quatro datasets para união em um único arquivo csv.\n",
        "if not os.path.isfile('/combined_data.csv'):\n",
        "    \n",
        "    data = open('combined_data.csv', mode='w')\n",
        "    \n",
        "    armazen = list()\n",
        "    arquivos = [\n",
        "        '/combined_data_1.txt',\n",
        "        '/combined_data_2.txt',\n",
        "        '/combined_data_3.txt',\n",
        "        '/combined_data_4.txt'   \n",
        "    ]\n",
        "    for arquivo in arquivos:\n",
        "        print(f\"Lendo {arquivo}\\n\")\n",
        "        with open(arquivo) as a:\n",
        "            for line in a: \n",
        "                line = line.strip()\n",
        "                if line.endswith(':'):   #insere o id do filme em todas as linhas até que o próximo filme apareça\n",
        "                    \n",
        "                    id_filme = line.replace(':', '')\n",
        "                else:\n",
        "                    armazen = [x for x in line.split(',')]\n",
        "                    armazen.insert(0, id_filme)\n",
        "                    data.write(','.join(armazen))\n",
        "                    data.write('\\n')\n",
        "    data.close()\n",
        "print('Processo concluído')"
      ]
    },
    {
      "cell_type": "code",
      "execution_count": null,
      "id": "f1af529b",
      "metadata": {
        "id": "f1af529b"
      },
      "outputs": [],
      "source": [
        "# Envio do dataset para camada processing\n",
        "\n",
        "def upload_dataset(bucket_name, source_file_name, destination_blob_name):\n",
        "    '''Upload dos aquivos no datalake'''\n",
        "   \n",
        "    # bucket_name = \"nome-da-bucket\"\n",
        "    # source_file_name =  caminho do arquivo a ser enviado\n",
        "    # destination_blob_name = \"nome-objeto-bucket\"\n",
        "\n",
        "    \n",
        "    bucket = storage_client.bucket(bucket_name)\n",
        "    blob = bucket.blob(destination_blob_name)\n",
        "\n",
        "    blob.upload_from_filename(source_file_name)\n",
        "\n",
        "    print(\n",
        "        f\"Arquivo {source_file_name} enviado para {destination_blob_name}.\"\n",
        "    )"
      ]
    },
    {
      "cell_type": "code",
      "execution_count": null,
      "id": "82d75439",
      "metadata": {
        "id": "82d75439",
        "outputId": "d6b5e71f-385a-4e07-e0e0-f6bfa87bc245"
      },
      "outputs": [
        {
          "name": "stdout",
          "output_type": "stream",
          "text": [
            "Arquivo /combined_data.csv enviado para processing/nf_prize_dataset/combined_data.csv.\n"
          ]
        }
      ],
      "source": [
        "upload_dataset('datalake-5gflix','/combined_data.csv','processing/nf_prize_dataset/combined_data.csv')  "
      ]
    },
    {
      "cell_type": "code",
      "execution_count": null,
      "id": "dbc33962",
      "metadata": {
        "id": "dbc33962"
      },
      "outputs": [],
      "source": [
        "# Definindo o schema\n",
        "schema = (\n",
        "    StructType([\n",
        "        StructField(\"id_movie\",IntegerType(), True),\n",
        "        StructField(\"id_user\" ,IntegerType(), True),\n",
        "        StructField(\"rating\", IntegerType(), True),\n",
        "        StructField(\"date\", DateType(), True),\n",
        "    ])\n",
        ")    "
      ]
    },
    {
      "cell_type": "code",
      "execution_count": null,
      "id": "0dd696aa",
      "metadata": {
        "id": "0dd696aa"
      },
      "outputs": [],
      "source": [
        "#Leitura do dataset netflix com as avaliações\n",
        "path='gs://datalake-5gflix/processing/nf_prize_dataset/combined_data.csv'\n",
        "\n",
        "df = (\n",
        "    spark.read.format(\"csv\")\n",
        "    .option(\"delimiter\", \",\")\n",
        "    .option(\"header\",\"false\")\n",
        "    .option(\"inferschema\",\"true\")\n",
        "    .load(path,schema=schema)\n",
        ")"
      ]
    },
    {
      "cell_type": "code",
      "execution_count": null,
      "id": "41e3da59",
      "metadata": {
        "id": "41e3da59",
        "outputId": "4201bf45-5d41-40b6-8cdc-ee9304ba88b7"
      },
      "outputs": [
        {
          "name": "stdout",
          "output_type": "stream",
          "text": [
            "root\n",
            " |-- id_movie: integer (nullable = true)\n",
            " |-- id_user: integer (nullable = true)\n",
            " |-- rating: integer (nullable = true)\n",
            " |-- date: date (nullable = true)\n",
            "\n"
          ]
        }
      ],
      "source": [
        "df.printSchema()"
      ]
    },
    {
      "cell_type": "code",
      "execution_count": null,
      "id": "f4eb7685",
      "metadata": {
        "id": "f4eb7685",
        "outputId": "3f648568-063d-455f-a09e-3b144b977c2c"
      },
      "outputs": [
        {
          "name": "stderr",
          "output_type": "stream",
          "text": [
            "                                                                                \r"
          ]
        },
        {
          "data": {
            "text/plain": [
              "100480507"
            ]
          },
          "execution_count": 5,
          "metadata": {},
          "output_type": "execute_result"
        }
      ],
      "source": [
        "df.count()"
      ]
    },
    {
      "cell_type": "code",
      "execution_count": null,
      "id": "bbaf7739",
      "metadata": {
        "id": "bbaf7739",
        "outputId": "75beba02-57d3-470a-8233-9d610e11f01a"
      },
      "outputs": [
        {
          "name": "stdout",
          "output_type": "stream",
          "text": [
            "+--------+-------+------+----------+\n",
            "|id_movie|id_user|rating|      date|\n",
            "+--------+-------+------+----------+\n",
            "|       1|1488844|     3|2005-09-06|\n",
            "|       1| 822109|     5|2005-05-13|\n",
            "|       1| 885013|     4|2005-10-19|\n",
            "|       1|  30878|     4|2005-12-26|\n",
            "|       1| 823519|     3|2004-05-03|\n",
            "|       1| 893988|     3|2005-11-17|\n",
            "|       1| 124105|     4|2004-08-05|\n",
            "|       1|1248029|     3|2004-04-22|\n",
            "|       1|1842128|     4|2004-05-09|\n",
            "|       1|2238063|     3|2005-05-11|\n",
            "+--------+-------+------+----------+\n",
            "only showing top 10 rows\n",
            "\n"
          ]
        }
      ],
      "source": [
        "df.show(10)"
      ]
    },
    {
      "cell_type": "code",
      "execution_count": null,
      "id": "55bb141a",
      "metadata": {
        "scrolled": true,
        "id": "55bb141a",
        "outputId": "6dea7126-6764-422d-f6a0-31b15cd7a49a"
      },
      "outputs": [
        {
          "name": "stderr",
          "output_type": "stream",
          "text": [
            "                                                                                \r"
          ]
        },
        {
          "data": {
            "text/plain": [
              "[Row(_c0=17770, _c1=834323, _c2=2, _c3='2005-10-04'),\n",
              " Row(_c0=17770, _c1=516110, _c2=5, _c3='2004-08-26'),\n",
              " Row(_c0=17770, _c1=365996, _c2=3, _c3='2003-11-10'),\n",
              " Row(_c0=17770, _c1=986348, _c2=4, _c3='2004-08-12'),\n",
              " Row(_c0=17770, _c1=311124, _c2=3, _c3='2005-09-29'),\n",
              " Row(_c0=17770, _c1=1790158, _c2=4, _c3='2005-11-01'),\n",
              " Row(_c0=17770, _c1=1608708, _c2=3, _c3='2005-07-19'),\n",
              " Row(_c0=17770, _c1=234275, _c2=1, _c3='2004-08-07'),\n",
              " Row(_c0=17770, _c1=255278, _c2=4, _c3='2004-05-28'),\n",
              " Row(_c0=17770, _c1=453585, _c2=2, _c3='2005-03-10')]"
            ]
          },
          "execution_count": 40,
          "metadata": {},
          "output_type": "execute_result"
        }
      ],
      "source": [
        "df.tail(10)"
      ]
    },
    {
      "cell_type": "code",
      "execution_count": null,
      "id": "d5a8ec94",
      "metadata": {
        "id": "d5a8ec94"
      },
      "outputs": [],
      "source": [
        "# Dropando as colunas irrelevantes para o estudo\n",
        "df=df.drop(F.col('id_user'))\n",
        "df=df.drop(F.col('date'))"
      ]
    },
    {
      "cell_type": "code",
      "execution_count": null,
      "id": "02daae08",
      "metadata": {
        "id": "02daae08",
        "outputId": "67c43893-a1a5-437e-fffa-99f07abae460"
      },
      "outputs": [
        {
          "name": "stdout",
          "output_type": "stream",
          "text": [
            "+--------+------+\n",
            "|id_movie|rating|\n",
            "+--------+------+\n",
            "|       1|     3|\n",
            "|       1|     5|\n",
            "|       1|     4|\n",
            "|       1|     4|\n",
            "|       1|     3|\n",
            "|       1|     3|\n",
            "|       1|     4|\n",
            "|       1|     3|\n",
            "|       1|     4|\n",
            "|       1|     3|\n",
            "|       1|     4|\n",
            "|       1|     5|\n",
            "|       1|     3|\n",
            "|       1|     3|\n",
            "|       1|     4|\n",
            "|       1|     4|\n",
            "|       1|     4|\n",
            "|       1|     3|\n",
            "|       1|     4|\n",
            "|       1|     5|\n",
            "+--------+------+\n",
            "only showing top 20 rows\n",
            "\n"
          ]
        }
      ],
      "source": [
        "df.show()"
      ]
    },
    {
      "cell_type": "code",
      "source": [
        "# Calculando a média de avaliação dos filmes, utilizando o calculo para média ponderada."
      ],
      "metadata": {
        "id": "3v5jTyKM-62y"
      },
      "id": "3v5jTyKM-62y",
      "execution_count": null,
      "outputs": []
    },
    {
      "cell_type": "code",
      "execution_count": null,
      "id": "7206ddaf",
      "metadata": {
        "id": "7206ddaf",
        "outputId": "24bf5f0c-1ead-45bf-b593-036a8f419b80"
      },
      "outputs": [
        {
          "name": "stderr",
          "output_type": "stream",
          "text": [
            "[Stage 3:======================================================>  (19 + 1) / 20]\r"
          ]
        },
        {
          "name": "stdout",
          "output_type": "stream",
          "text": [
            "+------+\n",
            "|rating|\n",
            "+------+\n",
            "|   3.6|\n",
            "+------+\n",
            "\n"
          ]
        },
        {
          "name": "stderr",
          "output_type": "stream",
          "text": [
            "                                                                                \r"
          ]
        }
      ],
      "source": [
        "# média de votos em todo conjunto de dados\n",
        "df.agg(F.round(F.avg(\"rating\"),1).alias(\"rating\")).show()"
      ]
    },
    {
      "cell_type": "code",
      "execution_count": null,
      "id": "7f7f0040",
      "metadata": {
        "id": "7f7f0040"
      },
      "outputs": [],
      "source": [
        "# Obtendo a informação da média de avaliação de cada filme e a quantidade de avaliações recebidas.\n",
        "\n",
        "df2 = ( df.groupBy(F.col(\"id_movie\"))\n",
        "               .agg(F.round(F.avg(\"rating\"),1).alias(\"rating\"),\n",
        "                F.count(\"rating\").alias('qnt_rating'))\n",
        "\n",
        ")"
      ]
    },
    {
      "cell_type": "code",
      "execution_count": null,
      "id": "10e8811a",
      "metadata": {
        "id": "10e8811a",
        "outputId": "d6f9770b-7a98-4b5a-fb64-c896a4dc96dc"
      },
      "outputs": [
        {
          "name": "stderr",
          "output_type": "stream",
          "text": [
            "[Stage 17:================================>                         (5 + 4) / 9]\r"
          ]
        },
        {
          "name": "stdout",
          "output_type": "stream",
          "text": [
            "+--------+------+----------+\n",
            "|id_movie|rating|qnt_rating|\n",
            "+--------+------+----------+\n",
            "|       1|   3.7|       547|\n",
            "|       2|   3.6|       145|\n",
            "|       3|   3.6|      2012|\n",
            "|       4|   2.7|       142|\n",
            "|       5|   3.9|      1140|\n",
            "+--------+------+----------+\n",
            "only showing top 5 rows\n",
            "\n"
          ]
        },
        {
          "name": "stderr",
          "output_type": "stream",
          "text": [
            "                                                                                \r"
          ]
        }
      ],
      "source": [
        "df2.orderBy(F.col('id_movie').asc()).show(5)"
      ]
    },
    {
      "cell_type": "code",
      "execution_count": null,
      "id": "31ea41a2",
      "metadata": {
        "id": "31ea41a2"
      },
      "outputs": [],
      "source": [
        "# pegamos a quantidade de avaliações de cada filme,dividimos pela quantidade de avaliações adcionada a 1000.\n",
        "# multiplicamos pela soma da nota média do filme + 1000\n",
        "# dividimos pela quantidade de avaliações + 1000 e multiplicamos pela média de avalização geral \"3.6\"\n",
        "df = df2.withColumn('Rating',F.lit(F.col('qnt_rating')/(F.col('qnt_rating')+1000)*(F.col('rating')+1000/(F.col('qnt_rating')+1000)*3.6)))"
      ]
    },
    {
      "cell_type": "code",
      "execution_count": null,
      "id": "82d2fc11",
      "metadata": {
        "id": "82d2fc11",
        "outputId": "18c7ada3-66eb-4da1-be37-c0c506ef821e"
      },
      "outputs": [
        {
          "name": "stderr",
          "output_type": "stream",
          "text": [
            "                                                                                \r"
          ]
        },
        {
          "data": {
            "text/plain": [
              "17770"
            ]
          },
          "execution_count": 10,
          "metadata": {},
          "output_type": "execute_result"
        }
      ],
      "source": [
        "df.count()"
      ]
    },
    {
      "cell_type": "code",
      "execution_count": null,
      "id": "acb0b2a2",
      "metadata": {
        "id": "acb0b2a2"
      },
      "outputs": [],
      "source": [
        "#Schema para o dataset netflix com os nomes de filmes\n",
        "schema = (\n",
        "    StructType([\n",
        "        StructField(\"id_movie_\",IntegerType(), True),\n",
        "        StructField(\"launch\" ,IntegerType(), True),\n",
        "        StructField(\"title\", StringType(), True)        \n",
        "    ])\n",
        ")    "
      ]
    },
    {
      "cell_type": "code",
      "execution_count": null,
      "id": "ab58c5b7",
      "metadata": {
        "id": "ab58c5b7"
      },
      "outputs": [],
      "source": [
        "#Leitura do dataset netflix com os nomes de filmes\n",
        "path='gs://datalake-5gflix/processing/nf_prize_dataset/movie_titles.csv'\n",
        "\n",
        "movie = (\n",
        "    spark.read.format(\"csv\")\n",
        "    .option(\"delimiter\", \",\")\n",
        "    .option(\"header\",\"false\")\n",
        "    .option(\"inferschema\",\"true\")\n",
        "    .load(path,schema=schema)\n",
        ")"
      ]
    },
    {
      "cell_type": "code",
      "execution_count": null,
      "id": "a78722a5",
      "metadata": {
        "id": "a78722a5",
        "outputId": "5fb831e6-90e2-4ad3-d454-436631dac8ce"
      },
      "outputs": [
        {
          "name": "stdout",
          "output_type": "stream",
          "text": [
            "+---------+------+----------------------------+\n",
            "|id_movie_|launch|title                       |\n",
            "+---------+------+----------------------------+\n",
            "|1        |2003  |Dinosaur Planet             |\n",
            "|2        |2004  |Isle of Man TT 2004 Review  |\n",
            "|3        |1997  |Character                   |\n",
            "|4        |1994  |Paula Abdul's Get Up & Dance|\n",
            "|5        |2004  |The Rise and Fall of ECW    |\n",
            "|6        |1997  |Sick                        |\n",
            "|7        |1992  |8 Man                       |\n",
            "|8        |2004  |What the #$*! Do We Know!?  |\n",
            "|9        |1991  |Class of Nuke 'Em High 2    |\n",
            "|10       |2001  |Fighter                     |\n",
            "+---------+------+----------------------------+\n",
            "only showing top 10 rows\n",
            "\n"
          ]
        }
      ],
      "source": [
        "movie.show(10,truncate=False)"
      ]
    },
    {
      "cell_type": "code",
      "execution_count": null,
      "id": "ffa6d2c5",
      "metadata": {
        "id": "ffa6d2c5",
        "outputId": "941baa4d-eaca-4eb3-f1c8-de0de209133d"
      },
      "outputs": [
        {
          "data": {
            "text/plain": [
              "17770"
            ]
          },
          "execution_count": 14,
          "metadata": {},
          "output_type": "execute_result"
        }
      ],
      "source": [
        "movie.count()"
      ]
    },
    {
      "cell_type": "code",
      "execution_count": null,
      "id": "520c6d25",
      "metadata": {
        "id": "520c6d25"
      },
      "outputs": [],
      "source": [
        "# Realiza a junção dos 2 datasets netflix\n",
        "df_netflix = df.join(movie, df.id_movie == movie.id_movie_,how='left')"
      ]
    },
    {
      "cell_type": "code",
      "execution_count": null,
      "id": "3f89e1f2",
      "metadata": {
        "id": "3f89e1f2",
        "outputId": "2c62df84-bb84-4f98-e7e6-128e403d0932"
      },
      "outputs": [
        {
          "name": "stderr",
          "output_type": "stream",
          "text": [
            "[Stage 45:=====================================================>  (19 + 1) / 20]\r"
          ]
        },
        {
          "name": "stdout",
          "output_type": "stream",
          "text": [
            "+--------+------------------+----------+---------+------+--------------------+\n",
            "|id_movie|            Rating|qnt_rating|id_movie_|launch|               title|\n",
            "+--------+------------------+----------+---------+------+--------------------+\n",
            "|    3997|0.8102450641377344|       159|     3997|  1983|   Of Unknown Origin|\n",
            "|    4101|0.4433272967416022|        84|     4101|  1983|          Hysterical|\n",
            "|    4519| 2.909123769229049|      2806|     4519|  2003|      Out for a Kill|\n",
            "|    4818|0.6596624652545954|       121|     4818|  1973|       Le Magnifique|\n",
            "|    4900|1.0771237707660328|       281|     4900|  2002|Let's Dance Salsa...|\n",
            "|    4158|0.5994462562385338|       117|     4158|  1986|Burial Ground: Th...|\n",
            "|    4161| 3.076215207774021|      1799|     4161|  1997|        I Think I Do|\n",
            "|    4190|0.7323215422842088|       132|     4190|  2003|Hugh Hefner: Amer...|\n",
            "|    4219|3.8496351496925594|     10942|     4219|  1995| The Tuskegee Airmen|\n",
            "|    4929|0.7037013610869529|       119|     4929|  2004|Born to be Wild: ...|\n",
            "|    4391| 1.069666500232434|       205|     4391|  1999|Natalie Merchant:...|\n",
            "|    4489|2.9186754743203926|      1404|     4489|  1961|   Mysterious Island|\n",
            "|    3986| 3.247336286891931|      2195|     3986|  2001|       Life and Debt|\n",
            "|    4042| 2.768731021820493|      1856|     4042|  1978|         Pretty Baby|\n",
            "|    4078|3.7869547891667015|      6124|     4078|  2003|Larry the Cable G...|\n",
            "|    4186| 0.862430878246377|       204|     4186|  2003|Dave Matthews: Pl...|\n",
            "|    4239|1.0655099286033767|       223|     4239|  1973|           Maitresse|\n",
            "|    4364|3.6928647289169803|     29537|     4364|  1976|             Network|\n",
            "|    4684|2.7442021717771667|      1051|     4684|  1998|Pretty as a Pictu...|\n",
            "|    4000|0.6702677746999076|       140|     4000|  2002|Ultimate Crop Cir...|\n",
            "+--------+------------------+----------+---------+------+--------------------+\n",
            "only showing top 20 rows\n",
            "\n"
          ]
        },
        {
          "name": "stderr",
          "output_type": "stream",
          "text": [
            "                                                                                \r"
          ]
        }
      ],
      "source": [
        "df_netflix.show()"
      ]
    },
    {
      "cell_type": "code",
      "execution_count": null,
      "id": "08148865",
      "metadata": {
        "id": "08148865"
      },
      "outputs": [],
      "source": [
        "df_netflix = df_netflix.drop(F.col('id_movie_'))"
      ]
    },
    {
      "cell_type": "code",
      "execution_count": null,
      "id": "097d078e",
      "metadata": {
        "id": "097d078e"
      },
      "outputs": [],
      "source": [
        "# Removendo os títulos duplicados\n",
        "df_netflix = df_netflix.dropDuplicates(['title'])"
      ]
    },
    {
      "cell_type": "code",
      "execution_count": null,
      "id": "5950c1be",
      "metadata": {
        "id": "5950c1be"
      },
      "outputs": [],
      "source": [
        "# Criando uma nova coluna com o nome da empresa\n",
        "df_netflix=df_netflix.withColumn('company',F.lit('netflix'))"
      ]
    },
    {
      "cell_type": "code",
      "execution_count": null,
      "id": "152b506a",
      "metadata": {
        "scrolled": true,
        "id": "152b506a",
        "outputId": "e4f46358-7311-471f-d1cf-ceccd08f51a8"
      },
      "outputs": [
        {
          "name": "stderr",
          "output_type": "stream",
          "text": [
            "[Stage 57:=====================================================>  (19 + 1) / 20]\r"
          ]
        },
        {
          "name": "stdout",
          "output_type": "stream",
          "text": [
            "+--------+------------------+----------+------+--------------------+-------+\n",
            "|id_movie|            Rating|qnt_rating|launch|               title|company|\n",
            "+--------+------------------+----------+------+--------------------+-------+\n",
            "|     148| 3.306242452575187|     22194|  2001|      Sweet November|Netflix|\n",
            "|     463|3.6144379464105456|      2286|  1962|The Twilight Zone...|Netflix|\n",
            "|     471| 3.890082644628099|      4500|  1931|         City Lights|Netflix|\n",
            "|     496|1.2587208444655706|       235|  2004|Primus: Hallucino...|Netflix|\n",
            "|     833| 3.469729456247705|      8378|  1996|        White Squall|Netflix|\n",
            "+--------+------------------+----------+------+--------------------+-------+\n",
            "only showing top 5 rows\n",
            "\n"
          ]
        },
        {
          "name": "stderr",
          "output_type": "stream",
          "text": [
            "                                                                                \r"
          ]
        }
      ],
      "source": [
        "df_netflix.show(5)"
      ]
    },
    {
      "cell_type": "markdown",
      "id": "da0ab59e",
      "metadata": {
        "id": "da0ab59e"
      },
      "source": [
        "### Limpando a coluna titulos"
      ]
    },
    {
      "cell_type": "code",
      "execution_count": null,
      "id": "10606b99",
      "metadata": {
        "id": "10606b99"
      },
      "outputs": [],
      "source": [
        "# Removendo caracters invalidos\n",
        "df_netlix = df_netflix.withColumn('title', regexp_replace('title', '([^\\s\\w_]|_)+', ''))\n",
        "\n",
        "# Removendo espaços duplos\n",
        "df_netflix = df_netflix.withColumn('title', regexp_replace('title', '  ', ' '))\n",
        "\n",
        "# Removendo espaços do inicio e final\n",
        "df_netflix = df_netflix.withColumn('title',trim(F.col('title')))\n",
        "\n",
        "# Alterando os titulos para letras mínusculas\n",
        "df_netflix = df_netflix.withColumn(\"title\", lower(F.col(\"title\")))"
      ]
    },
    {
      "cell_type": "code",
      "execution_count": null,
      "id": "a7f05be9",
      "metadata": {
        "id": "a7f05be9",
        "outputId": "55ec113b-5d08-4960-cf20-5d32463ba6d5"
      },
      "outputs": [
        {
          "name": "stderr",
          "output_type": "stream",
          "text": [
            "                                                                                \r"
          ]
        }
      ],
      "source": [
        "# Converte para formato parquet e armazena na camada trusted\n",
        "df_netflix.write.format(\"parquet\")\\\n",
        ".mode(\"overwrite\")\\\n",
        ".option('header', 'true') \\\n",
        ".save(\"gs://datalake-5gflix/trusted/df_netflix_parquet.parquet\")"
      ]
    },
    {
      "cell_type": "code",
      "execution_count": null,
      "id": "347c0987",
      "metadata": {
        "id": "347c0987"
      },
      "outputs": [],
      "source": [
        "dfnetp = spark.read.format(\"parquet\")\\\n",
        ".option('header','true')\\\n",
        ".load(\"gs://datalake-5gflix/trusted/df_netflix_parquet.parquet\")"
      ]
    },
    {
      "cell_type": "code",
      "execution_count": null,
      "id": "4663934e",
      "metadata": {
        "scrolled": true,
        "id": "4663934e",
        "outputId": "4f786f5d-0cfc-4bb9-b251-c0d0c62c471a"
      },
      "outputs": [
        {
          "name": "stdout",
          "output_type": "stream",
          "text": [
            "root\n",
            " |-- id_movie: integer (nullable = true)\n",
            " |-- Rating: double (nullable = true)\n",
            " |-- qnt_rating: long (nullable = true)\n",
            " |-- launch: integer (nullable = true)\n",
            " |-- title: string (nullable = true)\n",
            " |-- company: string (nullable = true)\n",
            "\n"
          ]
        }
      ],
      "source": [
        "dfnetp.printSchema()"
      ]
    },
    {
      "cell_type": "code",
      "execution_count": null,
      "id": "ebc88667",
      "metadata": {
        "id": "ebc88667",
        "outputId": "f5b3228d-fd80-4355-9149-87e61b24a102"
      },
      "outputs": [
        {
          "name": "stdout",
          "output_type": "stream",
          "text": [
            "+--------+-------------------+----------+------+--------------------+-------+\n",
            "|id_movie|             Rating|qnt_rating|launch|               title|company|\n",
            "+--------+-------------------+----------+------+--------------------+-------+\n",
            "|      98| 0.8151852141906178|       130|  1965|The Battle of Alg...|netflix|\n",
            "|     195| 0.9894728408908829|       185|  2004|     Chasing Freedom|netflix|\n",
            "|     256|  3.394616153576402|     12264|  2000|Ghost Dog: The Wa...|netflix|\n",
            "|     678| 1.3435941306607024|       282|  1965|   Loves of a Blonde|netflix|\n",
            "|     714|0.39170547670706607|        76|  1988|        Whisper Kill|netflix|\n",
            "|     911|  1.869927689051522|       539|  1939|         Buck Rogers|netflix|\n",
            "|     933| 1.4264795767721163|       263|  2005|Backyardigans: It...|netflix|\n",
            "|    1042| 2.2601670531389235|       722|  1996|    Forgotten Silver|netflix|\n",
            "|     287| 1.2960000000000003|       250|  1994|Luther Vandross: ...|netflix|\n",
            "|     345| 3.8689561016593146|      4175|  1998|Star Trek: Voyage...|netflix|\n",
            "|     490|  2.247543947215168|       873|  1999|The Passion of Ay...|netflix|\n",
            "|     595| 3.4475218490959265|      1622|  2001|Monarch of the Gl...|netflix|\n",
            "|     752|  4.189096708882824|      8669|  1993|Star Trek: The Ne...|netflix|\n",
            "|     767| 1.4193865849335916|       314|  2001|   Edges of the Lord|netflix|\n",
            "|     790| 1.4539467858149178|       365|  2000|       A Single Girl|netflix|\n",
            "|     828| 1.0623716738156856|       217|  1991|            Atlantis|netflix|\n",
            "|     809| 3.3697836446382605|      3888|  2002|Left Behind II: T...|netflix|\n",
            "|     863|  1.430561559905189|       295|  1990|King of New York:...|netflix|\n",
            "|     990| 3.5196689545431683|      2958|  1941|       Meet John Doe|netflix|\n",
            "|    1053| 0.4320987654320988|        80|  1997|Mysteries of Magi...|netflix|\n",
            "|      32|  3.482835484835702|      1854|  2004|ABC Primetime: Me...|netflix|\n",
            "|      60| 1.1116426409862703|       295|  1969|       The Libertine|netflix|\n",
            "|      90|  2.198224852071006|       625|  1951|  The Lemon Drop Kid|netflix|\n",
            "|     371|  3.401197692911892|      2004|  1966|The Trouble with ...|netflix|\n",
            "|     622|    1.4613171561649|       347|  1991|Talkin' Dirty Aft...|netflix|\n",
            "|    1014| 1.1611405289138386|       258|  1993|          Pretty Boy|netflix|\n",
            "|      75| 0.9976699253883514|       219|  1997|               Grind|netflix|\n",
            "|     382| 0.8471431000384798|       158|  2004|Buried in the San...|netflix|\n",
            "|     469| 0.5756393194242542|       105|  1998|First Night of My...|netflix|\n",
            "|     621| 3.8291368904825633|      8552|  1997|          Armageddon|netflix|\n",
            "|     630| 1.0806696666182805|       245|  1977|  Empire of the Ants|netflix|\n",
            "|     786| 1.9495570925004748|       508|  1966|       Tokyo Drifter|netflix|\n",
            "|    1027| 3.4013475321950932|     19960|  1993|          Rising Sun|netflix|\n",
            "|     203| 0.5680004262347489|        96|  1997|Sports Illustrate...|netflix|\n",
            "|     221| 0.9014856211899659|       161|  2005|Voyage to the Pla...|netflix|\n",
            "|     265| 1.4251578149987374|       308|  2002|The Jeff Corwin E...|netflix|\n",
            "|     457| 3.8971928964098765|    116762|  2004|   Kill Bill: Vol. 2|netflix|\n",
            "|     640| 1.7045795360608318|       437|  1992|   To Catch a Killer|netflix|\n",
            "|     662|  3.576620838466223|     11409|  1995|             Rob Roy|netflix|\n",
            "|     782| 0.4934509288797147|        95|  1998|  Soldier of Fortune|netflix|\n",
            "|     835| 2.1009500445747378|       637|  1994|Cirque du Soleil:...|netflix|\n",
            "|     141| 0.6934652915584805|       126|  2004|    Goddess of Mercy|netflix|\n",
            "|     151| 0.7574621685408858|       176|  2005| Sleepover Nightmare|netflix|\n",
            "|     341| 2.8351985900698375|      1862|  2004|Tremors 4: The Le...|netflix|\n",
            "|     414| 2.5776351679608305|      1428|  1999|                Girl|netflix|\n",
            "|     433|  3.570479184097786|     10043|  1993|       Untamed Heart|netflix|\n",
            "|     608| 0.3674283550056811|        68|  1970|The Lickerish Qua...|netflix|\n",
            "|     712|  2.837232137206154|       898|  1998|Homicide: Life on...|netflix|\n",
            "|     724| 3.3116359881328985|      1223|  1992|       Yu Yu Hakusho|netflix|\n",
            "|     859| 3.4835945712486045|     11076|  1982|           Creepshow|netflix|\n",
            "+--------+-------------------+----------+------+--------------------+-------+\n",
            "only showing top 50 rows\n",
            "\n"
          ]
        }
      ],
      "source": [
        "dfnetp.show(50)"
      ]
    },
    {
      "cell_type": "code",
      "execution_count": null,
      "id": "ad091182",
      "metadata": {
        "id": "ad091182",
        "outputId": "17e1d693-b01c-48c8-d26b-a7e7a6fa4b72"
      },
      "outputs": [
        {
          "name": "stderr",
          "output_type": "stream",
          "text": [
            "                                                                                \r"
          ]
        },
        {
          "data": {
            "text/plain": [
              "17297"
            ]
          },
          "execution_count": 21,
          "metadata": {},
          "output_type": "execute_result"
        }
      ],
      "source": [
        "dfnetp.count()"
      ]
    },
    {
      "cell_type": "code",
      "execution_count": null,
      "id": "d2f8d14a",
      "metadata": {
        "id": "d2f8d14a",
        "outputId": "184ef1dd-77e5-4bf3-eee5-bd10749e8a7c"
      },
      "outputs": [
        {
          "name": "stderr",
          "output_type": "stream",
          "text": [
            "[Stage 3:>                                                          (0 + 3) / 3]\r"
          ]
        },
        {
          "name": "stdout",
          "output_type": "stream",
          "text": [
            "Valores nulos coluna title: 0\n"
          ]
        },
        {
          "name": "stderr",
          "output_type": "stream",
          "text": [
            "                                                                                \r"
          ]
        }
      ],
      "source": [
        "# conta a quantidade de linhas nulas\n",
        "print (\"Valores nulos coluna title: {0}\".format(dfnetp.filter(\"title is NULL\").count()))"
      ]
    },
    {
      "cell_type": "code",
      "execution_count": null,
      "id": "947461a0",
      "metadata": {
        "scrolled": true,
        "id": "947461a0"
      },
      "outputs": [],
      "source": [
        "# organizando as colunas para junção dos dataframes netflix + amazon\n",
        "dfnetp = dfnetp.select(F.col('id_movie'),F.col('title'),F.col('Rating').alias('rating'),F.col('launch'),F.col('company'))"
      ]
    },
    {
      "cell_type": "markdown",
      "id": "7db6c2f5",
      "metadata": {
        "id": "7db6c2f5"
      },
      "source": [
        "# TRANSFORMAÇÃO AMAZON"
      ]
    },
    {
      "cell_type": "code",
      "execution_count": null,
      "id": "1447029f",
      "metadata": {
        "scrolled": true,
        "id": "1447029f",
        "outputId": "1ed66a8e-ce1f-4696-9b12-9d42319a33c5"
      },
      "outputs": [
        {
          "name": "stderr",
          "output_type": "stream",
          "text": [
            "                                                                                \r"
          ]
        }
      ],
      "source": [
        "path='gs://datalake-5gflix/processing/*.tsv'\n",
        "\n",
        "df_amz = (\n",
        "    spark.read.format(\"csv\")\n",
        "    .option(\"delimiter\", \"\\t\")\n",
        "    .option(\"encoding\", \"UTF-8\")\n",
        "    .option(\"header\",\"True\")\n",
        "    .option(\"inferschema\",\"true\")\n",
        "    .load(path)\n",
        ")"
      ]
    },
    {
      "cell_type": "code",
      "execution_count": null,
      "id": "982dad45",
      "metadata": {
        "id": "982dad45",
        "outputId": "0b0b2dc4-19b1-46c6-8020-bfa398d43549"
      },
      "outputs": [
        {
          "name": "stdout",
          "output_type": "stream",
          "text": [
            "root\n",
            " |-- marketplace: string (nullable = true)\n",
            " |-- customer_id: integer (nullable = true)\n",
            " |-- review_id: string (nullable = true)\n",
            " |-- product_id: string (nullable = true)\n",
            " |-- product_parent: integer (nullable = true)\n",
            " |-- product_title: string (nullable = true)\n",
            " |-- product_category: string (nullable = true)\n",
            " |-- star_rating: integer (nullable = true)\n",
            " |-- helpful_votes: integer (nullable = true)\n",
            " |-- total_votes: integer (nullable = true)\n",
            " |-- vine: string (nullable = true)\n",
            " |-- verified_purchase: string (nullable = true)\n",
            " |-- review_headline: string (nullable = true)\n",
            " |-- review_body: string (nullable = true)\n",
            " |-- review_date: string (nullable = true)\n",
            "\n"
          ]
        }
      ],
      "source": [
        "df_amz.printSchema()"
      ]
    },
    {
      "cell_type": "code",
      "execution_count": null,
      "id": "6f0e0776",
      "metadata": {
        "id": "6f0e0776"
      },
      "outputs": [],
      "source": [
        "# Selecionando apenas as colunas relevantes e criando o dataframe\n",
        "df_amz=df_amz.select(F.col('product_id'),F.col('product_title'),F.col('star_rating'),F.col('review_date'))"
      ]
    },
    {
      "cell_type": "code",
      "execution_count": null,
      "id": "3b02e15a",
      "metadata": {
        "id": "3b02e15a",
        "outputId": "b42fa20d-72ec-4be4-e5a2-e35368a9859e"
      },
      "outputs": [
        {
          "name": "stderr",
          "output_type": "stream",
          "text": [
            "                                                                                \r"
          ]
        },
        {
          "data": {
            "text/plain": [
              "9506891"
            ]
          },
          "execution_count": 26,
          "metadata": {},
          "output_type": "execute_result"
        }
      ],
      "source": [
        "df_amz.count()"
      ]
    },
    {
      "cell_type": "code",
      "execution_count": null,
      "id": "7031da65",
      "metadata": {
        "scrolled": false,
        "id": "7031da65",
        "outputId": "e8a2b191-5703-4b97-fc18-95d5bb9d169a"
      },
      "outputs": [
        {
          "name": "stderr",
          "output_type": "stream",
          "text": [
            "[Stage 32:=====================================================>  (39 + 2) / 41]\r"
          ]
        },
        {
          "name": "stdout",
          "output_type": "stream",
          "text": [
            "+----------+--------------------+-----------+-----------+\n",
            "|product_id|       product_title|star_rating|review_date|\n",
            "+----------+--------------------+-----------+-----------+\n",
            "|B002RTFHUU|      Angela's Ashes|          5|       null|\n",
            "|B00FRAV1BU|American Horror S...|          5|       null|\n",
            "|B000Q3DWD8|Ron White: You Ca...|          5|       null|\n",
            "|B00EEN66SY|      The Bling Ring|          3|       null|\n",
            "|B00GBD1518|Gas House Kids in...|          5|       null|\n",
            "|B000QYBF22|        Black Monday|          5|       null|\n",
            "|B00CDZFRAI|Alpha House Season 1|          4|       null|\n",
            "|B004W1GCNC|Upstairs Downstai...|          5|       null|\n",
            "|B00E9PXI3S|             Passion|          1|       null|\n",
            "|B00271FP00|         Black Sheep|          4|       null|\n",
            "|B00F88H5K2|Behind the Candel...|          2|       null|\n",
            "|B00332MY6K|   White Heat (1949)|          5|       null|\n",
            "|B009NXV51S|       Almost Famous|          5|       null|\n",
            "|B00ES3NOBC|Execution of Raym...|          3|       null|\n",
            "|B008Y7N7JW|    The Hunger Games|          4|       null|\n",
            "|B000SW2F8K|        Woman On Top|          5|       null|\n",
            "|B00DAYH8CG|Ghosthunters - Th...|          1|       null|\n",
            "|B0072C8ISK|Trial & Retributi...|          4|       null|\n",
            "|B00G32QIEG|            R.I.P.D.|          3|       null|\n",
            "|B0070YR5UW|              Friday|          5|       null|\n",
            "+----------+--------------------+-----------+-----------+\n",
            "only showing top 20 rows\n",
            "\n"
          ]
        },
        {
          "name": "stderr",
          "output_type": "stream",
          "text": [
            "                                                                                \r"
          ]
        }
      ],
      "source": [
        "df_amz.orderBy(F.col('review_date').asc()).show()"
      ]
    },
    {
      "cell_type": "code",
      "execution_count": null,
      "id": "95cc1c0b",
      "metadata": {
        "id": "95cc1c0b",
        "outputId": "7a5a9b62-ae38-473d-a0ad-2ef58f87b21d"
      },
      "outputs": [
        {
          "name": "stderr",
          "output_type": "stream",
          "text": [
            "[Stage 19:======================================================> (40 + 1) / 41]\r"
          ]
        },
        {
          "name": "stdout",
          "output_type": "stream",
          "text": [
            "Valores nulos coluna Product_title: 0\n"
          ]
        },
        {
          "name": "stderr",
          "output_type": "stream",
          "text": [
            "                                                                                \r"
          ]
        }
      ],
      "source": [
        "# conta a quantidade de linhas nulas\n",
        "print (\"Valores nulos coluna Product_title: {0}\".format(df_amz.filter(\"product_title is NULL\").count()))"
      ]
    },
    {
      "cell_type": "markdown",
      "id": "0dc5f506",
      "metadata": {
        "id": "0dc5f506"
      },
      "source": [
        "### Limpando a coluna titulos"
      ]
    },
    {
      "cell_type": "code",
      "execution_count": null,
      "id": "27091655",
      "metadata": {
        "id": "27091655"
      },
      "outputs": [],
      "source": [
        "\n",
        "# Removendo caracters invalidos\n",
        "df_amz = df_amz.withColumn('product_title', regexp_replace('product_title', '([^\\s\\w_]|_)+', ''))\n",
        "\n",
        "# Removendo espaços duplos\n",
        "df_amz = df_amz.withColumn('product_title', regexp_replace('product_title', '  ', ' '))\n",
        "\n",
        "# Removendo espaços do inicio e final\n",
        "df_amz = df_amz.withColumn('product_title',trim(F.col('product_title')))\n",
        "\n",
        "# Alterando os titulos para letras mínusculas\n",
        "df_amz = df_amz.withColumn(\"product_title\", lower(F.col(\"product_title\")))\n"
      ]
    },
    {
      "cell_type": "code",
      "execution_count": null,
      "id": "b3003b5b",
      "metadata": {
        "id": "b3003b5b"
      },
      "outputs": [],
      "source": [
        "# Extrai ano da data\n",
        "\n",
        "'''id_movie title rating lauch company'''\n",
        "\n",
        "df_amz=df_amz.select(year(F.col(\"review_date\")).alias(\"year\"),F.col('product_id').alias('movie_id'),F.col('product_title').alias('title'),F.col('star_rating').alias('rating'))"
      ]
    },
    {
      "cell_type": "code",
      "execution_count": null,
      "id": "a21ec03d",
      "metadata": {
        "id": "a21ec03d"
      },
      "outputs": [],
      "source": [
        "# Criando a coluna company amazon\n",
        "df_amz=df_amz.withColumn('company',F.lit('amazon'))"
      ]
    },
    {
      "cell_type": "code",
      "execution_count": null,
      "id": "1458f26e",
      "metadata": {
        "id": "1458f26e"
      },
      "outputs": [],
      "source": [
        "# Removendo os títulos duplicados\n",
        "df_amz = df_amz.dropDuplicates(['title'])"
      ]
    },
    {
      "cell_type": "code",
      "execution_count": null,
      "id": "6c379ea5",
      "metadata": {
        "id": "6c379ea5"
      },
      "outputs": [],
      "source": [
        "# organizando as colunas para junção dos dataframes netflix + amazon\n",
        "df_amz = df_amz.select(F.col('movie_id').alias('id_movie'),F.col('title'),F.col('rating'),F.col('year').alias('launch'),F.col('company'))"
      ]
    },
    {
      "cell_type": "code",
      "execution_count": null,
      "id": "edf9d19d",
      "metadata": {
        "collapsed": true,
        "id": "edf9d19d",
        "outputId": "87712f19-1dc9-4c46-a27a-191f1aa5687c"
      },
      "outputs": [
        {
          "name": "stdout",
          "output_type": "stream",
          "text": [
            "+----------+--------------------+------+-----+-------+\n",
            "|  id_movie|               title|rating|lauch|company|\n",
            "+----------+--------------------+------+-----+-------+\n",
            "|B00AYB1482|enlightened season 1|     5| 2015| Amazon|\n",
            "|B00KQD28OM|             vicious|     5| 2015| Amazon|\n",
            "|B01489L5LQ|         after words|     4| 2015| Amazon|\n",
            "|B008LOVIIK|masterpiece inspe...|     5| 2015| Amazon|\n",
            "|B0094LZMT0|   on the waterfront|     5| 2015| Amazon|\n",
            "|B0112OSOQE|rick and morty se...|     5| 2015| Amazon|\n",
            "|B000NPE5SA|      africa screams|     4| 2015| Amazon|\n",
            "|B00XWV4QXG|  entourage season 7|     3| 2015| Amazon|\n",
            "|B00X8UKOUK|catastrophe season 1|     2| 2015| Amazon|\n",
            "|B00OOKXTFU|the worricker tri...|     3| 2015| Amazon|\n",
            "|B00URDJ600|mr selfridge seas...|     5| 2015| Amazon|\n",
            "|B009JUZ5I4|  five branded women|     5| 2015| Amazon|\n",
            "|B00PSLQYWE|downton abbey sea...|     4| 2015| Amazon|\n",
            "|B00LI1COYA|     extant season 1|     5| 2015| Amazon|\n",
            "|B01347T9O8|            casanova|     1| 2015| Amazon|\n",
            "|B00EC7VQX2|boardwalk empire ...|     1| 2015| Amazon|\n",
            "|B014P64276|      reunion part 2|     5| 2015| Amazon|\n",
            "|B00X8UKOUK|catastrophe season 1|     3| 2015| Amazon|\n",
            "|B005U9RM0W|      grimm season 1|     4| 2015| Amazon|\n",
            "|B00X8UKOUK|catastrophe season 1|     5| 2015| Amazon|\n",
            "+----------+--------------------+------+-----+-------+\n",
            "only showing top 20 rows\n",
            "\n"
          ]
        }
      ],
      "source": [
        "df_amz.show()"
      ]
    },
    {
      "cell_type": "code",
      "execution_count": null,
      "id": "215e0e24",
      "metadata": {
        "id": "215e0e24",
        "outputId": "75599d2b-828f-4c3b-9f14-6da3fba5d2f1"
      },
      "outputs": [
        {
          "name": "stderr",
          "output_type": "stream",
          "text": [
            "                                                                                \r"
          ]
        }
      ],
      "source": [
        "# Converte para formato parquet e armazena na camada trusted\n",
        "df_amz.write.format(\"parquet\")\\\n",
        ".mode(\"overwrite\")\\\n",
        ".option('header', 'true') \\\n",
        ".save(\"gs://datalake-5gflix/trusted/df_amz_parquet.parquet\")"
      ]
    },
    {
      "cell_type": "code",
      "execution_count": null,
      "id": "d6cc0c6f",
      "metadata": {
        "id": "d6cc0c6f"
      },
      "outputs": [],
      "source": [
        "df_amz = spark.read.format(\"parquet\")\\\n",
        ".option('header','true')\\\n",
        ".load(\"gs://datalake-5gflix/trusted/df_amz_parquet.parquet\")"
      ]
    },
    {
      "cell_type": "code",
      "execution_count": null,
      "id": "64533841",
      "metadata": {
        "id": "64533841",
        "outputId": "be531f83-7a84-45fa-d33f-dd07dbd6b49f"
      },
      "outputs": [
        {
          "name": "stdout",
          "output_type": "stream",
          "text": [
            "root\n",
            " |-- id_movie: string (nullable = true)\n",
            " |-- title: string (nullable = true)\n",
            " |-- rating: integer (nullable = true)\n",
            " |-- launch: integer (nullable = true)\n",
            " |-- company: string (nullable = true)\n",
            "\n"
          ]
        }
      ],
      "source": [
        "df_amz.printSchema()"
      ]
    },
    {
      "cell_type": "code",
      "execution_count": null,
      "id": "01cabbeb",
      "metadata": {
        "id": "01cabbeb",
        "outputId": "ca36b321-2ec6-4bca-8556-ef88a417401a"
      },
      "outputs": [
        {
          "name": "stderr",
          "output_type": "stream",
          "text": [
            "[Stage 15:>                                                         (0 + 1) / 1]\r"
          ]
        },
        {
          "name": "stdout",
          "output_type": "stream",
          "text": [
            "+----------+--------------------+------+-----+-------+\n",
            "|  id_movie|               title|rating|lauch|company|\n",
            "+----------+--------------------+------+-----+-------+\n",
            "|B007I1Q4MM|the magic school ...|     5| 2015| Amazon|\n",
            "|B005BUA1GC|melissa joey seas...|     5| 2015| Amazon|\n",
            "|B0000DZ3EG|      follow me boys|     4| 2015| Amazon|\n",
            "|B005NQ5LLY|d grayman season ...|     5| 2015| Amazon|\n",
            "|B00062IYZK|popeye the sailor v2|     5| 2015| Amazon|\n",
            "|B00Q7WBGHG|      into the woods|     5| 2015| Amazon|\n",
            "|B00008977A|    man of the house|     5| 2015| Amazon|\n",
            "|B005TBQS3I|dead poets societ...|     5| 2015| Amazon|\n",
            "|B002C2KAS6|       ncis season 6|     5| 2015| Amazon|\n",
            "|B00HRYH7DA|jesus film 35th a...|     5| 2015| Amazon|\n",
            "|B005FQ2HDC|   black moon rising|     5| 2015| Amazon|\n",
            "|B00MRAJGDI|the expendables 3...|     5| 2015| Amazon|\n",
            "|B00R3DO58K|the hobbit the ba...|     5| 2015| Amazon|\n",
            "|B00JHH1ZN8|rodgers hammerste...|     5| 2015| Amazon|\n",
            "|B00RGQ4674|outlander season ...|     5| 2015| Amazon|\n",
            "|B002U0KHNS|the prisoner mini...|     5| 2015| Amazon|\n",
            "|B000HA4WSO|rock hudson scree...|     3| 2015| Amazon|\n",
            "|B00U8BDUKS|orange is the new...|     5| 2015| Amazon|\n",
            "|B0025VLELQ|the last starfigh...|     5| 2015| Amazon|\n",
            "|B0017TYPIG|cool hand luke bl...|     5| 2015| Amazon|\n",
            "+----------+--------------------+------+-----+-------+\n",
            "only showing top 20 rows\n",
            "\n"
          ]
        },
        {
          "name": "stderr",
          "output_type": "stream",
          "text": [
            "                                                                                \r"
          ]
        }
      ],
      "source": [
        "df_amz.show()"
      ]
    },
    {
      "cell_type": "code",
      "execution_count": null,
      "id": "3b63c7cd",
      "metadata": {
        "id": "3b63c7cd"
      },
      "outputs": [],
      "source": [
        "# União dos 2 dataframes.\n",
        "df_final = dfnetp.unionByName(df_amz)"
      ]
    },
    {
      "cell_type": "code",
      "execution_count": null,
      "id": "9d483370",
      "metadata": {
        "id": "9d483370",
        "outputId": "2904bb68-7fc8-4088-ff48-857b2a2cd020"
      },
      "outputs": [
        {
          "name": "stdout",
          "output_type": "stream",
          "text": [
            "+--------+--------------------+-------------------+------+-------+\n",
            "|id_movie|               title|             rating|launch|company|\n",
            "+--------+--------------------+-------------------+------+-------+\n",
            "|     882|gloria estefan ev...|0.46435129031266126|  1996|netflix|\n",
            "|    3579|    2 fast 2 furious|  3.305520298750795|  2003|netflix|\n",
            "|    7940|            robotech|  3.237631823352444|  1985|netflix|\n",
            "|    8655|               blood| 0.9123321801638006|  1998|netflix|\n",
            "|   12054|         childs play| 3.0247819965165474|  1988|netflix|\n",
            "|    5047|max keebles big move| 3.1529620181405895|  2001|netflix|\n",
            "|   11404|mtv the real worl...| 2.2982157773397036|  2002|netflix|\n",
            "|   16273|        into the sun|   2.81504902742347|  2004|netflix|\n",
            "|     416|            elephant|  3.024989092569995|  2003|netflix|\n",
            "|    3060|midnight street r...|  1.182282996432818|  2002|netflix|\n",
            "|    6993|         varians war| 2.0458658424222618|  2000|netflix|\n",
            "|    7699|bratz the video s...| 2.3702376566374674|  2004|netflix|\n",
            "|    8828|             un flic|   0.65785426631391|  1971|netflix|\n",
            "|   10135|jonny quest season 1| 2.5846919684382152|  1964|netflix|\n",
            "|   10346|            two bits| 0.7221972093384308|  1995|netflix|\n",
            "|   11975|    mad hot ballroom|  3.799336417223615|  2005|netflix|\n",
            "|   12589|heat special edit...|  1.089509099392707|  1995|netflix|\n",
            "|   14587|               asoka| 2.7724645215353703|  2001|netflix|\n",
            "|   14327|               paris|  3.510138324650904|  1984|netflix|\n",
            "|    4606|   scrapped princess|  1.007372175980975|  2003|netflix|\n",
            "+--------+--------------------+-------------------+------+-------+\n",
            "only showing top 20 rows\n",
            "\n"
          ]
        }
      ],
      "source": [
        "df_final.show()"
      ]
    },
    {
      "cell_type": "code",
      "execution_count": null,
      "id": "bf800fb4",
      "metadata": {
        "id": "bf800fb4",
        "outputId": "359c01b6-f356-41cc-b495-27ccfc6fa0dc"
      },
      "outputs": [
        {
          "name": "stderr",
          "output_type": "stream",
          "text": [
            "                                                                                \r"
          ]
        }
      ],
      "source": [
        "# Converte para formato parquet e armazena na camada trusted\n",
        "df_final.write.format(\"parquet\")\\\n",
        ".mode(\"overwrite\")\\\n",
        ".option('header', 'true') \\\n",
        ".save(\"gs://datalake-5gflix/trusted/df_final_parquet.parquet\")"
      ]
    },
    {
      "cell_type": "code",
      "execution_count": null,
      "id": "185e6dc2",
      "metadata": {
        "id": "185e6dc2"
      },
      "outputs": [],
      "source": [
        ""
      ]
    }
  ],
  "metadata": {
    "kernelspec": {
      "display_name": "PySpark",
      "language": "python",
      "name": "pyspark"
    },
    "language_info": {
      "codemirror_mode": {
        "name": "ipython",
        "version": 3
      },
      "file_extension": ".py",
      "mimetype": "text/x-python",
      "name": "python",
      "nbconvert_exporter": "python",
      "pygments_lexer": "ipython3",
      "version": "3.8.13"
    },
    "colab": {
      "name": "Transformação.ipynb",
      "provenance": [],
      "collapsed_sections": [
        "da0ab59e",
        "7db6c2f5",
        "0dc5f506"
      ]
    }
  },
  "nbformat": 4,
  "nbformat_minor": 5
}